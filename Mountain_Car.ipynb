{
 "cells": [
  {
   "cell_type": "markdown",
   "id": "ebdf64ac",
   "metadata": {},
   "source": [
    "# Import Packages"
   ]
  },
  {
   "cell_type": "code",
   "execution_count": 1,
   "id": "36aab8cc",
   "metadata": {},
   "outputs": [],
   "source": [
    "import numpy as np\n",
    "import gym\n",
    "import matplotlib.pyplot as plt"
   ]
  },
  {
   "cell_type": "markdown",
   "id": "d47acbbf",
   "metadata": {},
   "source": [
    "# Import Algorithms"
   ]
  },
  {
   "cell_type": "code",
   "execution_count": 2,
   "id": "0fab1e94",
   "metadata": {},
   "outputs": [],
   "source": [
    "from Algorithms.Actor_Critic import actor_critic"
   ]
  },
  {
   "cell_type": "code",
   "execution_count": 3,
   "id": "9465c7a2",
   "metadata": {},
   "outputs": [],
   "source": [
    "algorithm = actor_critic()"
   ]
  },
  {
   "cell_type": "markdown",
   "id": "5255798e",
   "metadata": {},
   "source": [
    "# Make Mountain Car Environment"
   ]
  },
  {
   "cell_type": "code",
   "execution_count": 4,
   "id": "4daa0ce8",
   "metadata": {},
   "outputs": [],
   "source": [
    "env = gym.make('MountainCar-v0')"
   ]
  },
  {
   "cell_type": "code",
   "execution_count": 5,
   "id": "45265fdb",
   "metadata": {},
   "outputs": [],
   "source": [
    "# alpha_theta, alpha_w, M1, M2, epsilon)\n",
    "actor_critic_parameters = (0.5, 0.001,30,30, 0.00005)"
   ]
  },
  {
   "cell_type": "code",
   "execution_count": 6,
   "id": "0952ddb2",
   "metadata": {},
   "outputs": [],
   "source": [
    "_,_,theta = algorithm.train(env,500, actor_critic_parameters)"
   ]
  },
  {
   "cell_type": "code",
   "execution_count": 7,
   "id": "755a77b9",
   "metadata": {},
   "outputs": [
    {
     "name": "stdout",
     "output_type": "stream",
     "text": [
      "0\n",
      "1\n",
      "2\n",
      "3\n",
      "4\n",
      "5\n",
      "6\n",
      "7\n",
      "8\n",
      "9\n",
      "10\n",
      "11\n",
      "12\n",
      "13\n",
      "14\n",
      "15\n",
      "16\n",
      "17\n",
      "18\n",
      "19\n",
      "20\n",
      "21\n",
      "22\n",
      "23\n",
      "24\n",
      "25\n",
      "26\n",
      "27\n",
      "28\n",
      "29\n",
      "30\n",
      "31\n",
      "32\n",
      "33\n",
      "34\n",
      "35\n",
      "36\n",
      "37\n",
      "38\n",
      "39\n",
      "40\n",
      "41\n",
      "42\n",
      "43\n",
      "44\n",
      "45\n",
      "46\n",
      "47\n",
      "48\n",
      "49\n",
      "50\n",
      "51\n",
      "52\n",
      "53\n",
      "54\n",
      "55\n",
      "56\n",
      "57\n",
      "58\n",
      "59\n",
      "60\n",
      "61\n",
      "62\n",
      "63\n",
      "64\n",
      "65\n",
      "66\n",
      "67\n",
      "68\n",
      "69\n",
      "70\n",
      "71\n",
      "72\n",
      "73\n",
      "74\n",
      "75\n",
      "76\n",
      "77\n",
      "78\n",
      "79\n",
      "80\n",
      "81\n",
      "82\n",
      "83\n",
      "84\n",
      "85\n",
      "86\n",
      "87\n",
      "88\n",
      "89\n",
      "90\n",
      "91\n",
      "92\n",
      "93\n",
      "94\n",
      "95\n",
      "96\n",
      "97\n",
      "98\n",
      "99\n",
      "100\n",
      "101\n",
      "102\n",
      "103\n",
      "104\n",
      "105\n",
      "106\n",
      "107\n",
      "108\n",
      "109\n",
      "110\n",
      "111\n",
      "112\n",
      "113\n",
      "114\n",
      "115\n",
      "116\n",
      "117\n",
      "118\n",
      "119\n",
      "120\n",
      "121\n",
      "122\n",
      "123\n",
      "124\n",
      "125\n",
      "126\n",
      "127\n",
      "128\n",
      "129\n",
      "130\n",
      "131\n",
      "132\n",
      "133\n",
      "134\n"
     ]
    }
   ],
   "source": [
    "# theta, M1, epsilon = final_parameters\n",
    "\n",
    "final_actor_critic_params = (theta, 30, 0.00005)\n",
    "\n",
    "algorithm.run_game(final_actor_critic_params)"
   ]
  },
  {
   "cell_type": "code",
   "execution_count": null,
   "id": "975249e7",
   "metadata": {},
   "outputs": [],
   "source": []
  }
 ],
 "metadata": {
  "kernelspec": {
   "display_name": "Python 3 (ipykernel)",
   "language": "python",
   "name": "python3"
  },
  "language_info": {
   "codemirror_mode": {
    "name": "ipython",
    "version": 3
   },
   "file_extension": ".py",
   "mimetype": "text/x-python",
   "name": "python",
   "nbconvert_exporter": "python",
   "pygments_lexer": "ipython3",
   "version": "3.7.6"
  }
 },
 "nbformat": 4,
 "nbformat_minor": 5
}
