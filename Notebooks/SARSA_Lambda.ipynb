{
 "cells": [
  {
   "cell_type": "markdown",
   "id": "9df11cf2",
   "metadata": {},
   "source": [
    "# Setup"
   ]
  },
  {
   "cell_type": "code",
   "execution_count": 1,
   "id": "f17eb052",
   "metadata": {},
   "outputs": [
    {
     "name": "stdout",
     "output_type": "stream",
     "text": [
      "Requirement already satisfied: pygame in /Library/Frameworks/Python.framework/Versions/3.10/lib/python3.10/site-packages (2.1.2)\r\n"
     ]
    }
   ],
   "source": [
    "import gym\n",
    "from gym.envs.registration import register\n",
    "from IPython.display import clear_output\n",
    "!pip install --upgrade pygame\n",
    "import pygame"
   ]
  },
  {
   "cell_type": "code",
   "execution_count": 16,
   "id": "2a84c31d",
   "metadata": {},
   "outputs": [],
   "source": [
    "env_name = \"MountainCar-v0\"\n",
    "env = gym.make(env_name)"
   ]
  },
  {
   "cell_type": "code",
   "execution_count": 17,
   "id": "6b6b4087",
   "metadata": {},
   "outputs": [
    {
     "name": "stdout",
     "output_type": "stream",
     "text": [
      "Observation space: Box([-1.2  -0.07], [0.6  0.07], (2,), float32)\n",
      "Action space: Discrete(3)\n"
     ]
    },
    {
     "data": {
      "text/plain": [
       "gym.spaces.discrete.Discrete"
      ]
     },
     "execution_count": 17,
     "metadata": {},
     "output_type": "execute_result"
    }
   ],
   "source": [
    "print(\"Observation space:\", env.observation_space)\n",
    "print(\"Action space:\", env.action_space)\n",
    "type(env.action_space)"
   ]
  },
  {
   "cell_type": "code",
   "execution_count": null,
   "id": "f42150f0",
   "metadata": {},
   "outputs": [],
   "source": [
    "env.reset()\n",
    "for _ in range(1000):\n",
    "    env.render()\n",
    "    env.step(env.action_space.sample()) # take a random action\n",
    "env.close()"
   ]
  },
  {
   "cell_type": "markdown",
   "id": "015429f5",
   "metadata": {},
   "source": [
    "# True Online Sarsa(λ)"
   ]
  },
  {
   "cell_type": "code",
   "execution_count": 6,
   "id": "fb364a4b",
   "metadata": {},
   "outputs": [],
   "source": [
    "import numpy as np"
   ]
  },
  {
   "cell_type": "code",
   "execution_count": 7,
   "id": "a5d5dcd6",
   "metadata": {},
   "outputs": [],
   "source": [
    "#using a modified cosine fourier basis. x: position, v: velocity, d: dimension of the features\n",
    "def get_features(x, v, d):\n",
    "    if x>=0.5:\n",
    "        return np.zeros(d)\n",
    "    \n",
    "    M = (d-1)//2\n",
    "    state_features = [1]\n",
    "    scaled_x = (((x - (-1.2))/(0.6 - (-1.2)))*(1-(-1))) + (-1)\n",
    "    scaled_v = (((v - (-0.07))/(0.07 - (-0.07)))*(1-(-1))) + (-1)\n",
    "\n",
    "    for i in range(1, M+1):\n",
    "        state_features.append(np.sin(i*np.pi*scaled_x))\n",
    "    for i in range(1, M+1):\n",
    "        state_features.append(np.sin(i*np.pi*scaled_v))\n",
    "\n",
    "    return np.array(state_features)"
   ]
  },
  {
   "cell_type": "code",
   "execution_count": 27,
   "id": "61c7d8fb",
   "metadata": {},
   "outputs": [],
   "source": [
    "def algorithm(alpha=0.4, gamma=1, λ=0.4, iterations=100, ep=0.2, bins=np.array([15, 5])):\n",
    "    b_x = bins[0]\n",
    "    b_v = bins[1]\n",
    "    q = np.zeros((b_x, b_v, 3)) # bins for position * bins for velocity * number of actions\n",
    "    observation = env.reset()\n",
    "    for i in range(1, iterations+1):\n",
    "        if ep>0.05:\n",
    "            ep-=0.01\n",
    "        x = observation[0]\n",
    "        v = observation[1]\n",
    "        scaled_x = int(((((x - (-1.2))/(0.5 - (-1.2)))*(1-(0))) + (0))//(1/b_x))\n",
    "        scaled_v = int(((((v - (-0.7))/(0.7 - (-0.7)))*(1-(0))) + (0))//(1/b_v))\n",
    "        if np.random.rand()<=ep:\n",
    "            action = int(np.random.rand()//(1/3))\n",
    "        else:\n",
    "            action = np.argmax(q[scaled_x][scaled_v])\n",
    "        Q_old = 0\n",
    "        e = np.zeros((b_x, b_v, 3))\n",
    "        steps = 0\n",
    "        #episode\n",
    "        done = False\n",
    "        total_reward = 0\n",
    "        while(not done):\n",
    "            env.render()\n",
    "            observation, reward, done, info = env.step(action)\n",
    "            x_next, v_next = observation\n",
    "            scaled_x_next = int(((((x_next - (-1.2))/(0.6 - (-1.2)))*(1-(0))) + (0))//(1/b_x))\n",
    "            scaled_v_next = int(((((v_next - (-0.7))/(0.7 - (-0.7)))*(1-(0))) + (0))//(1/b_v))\n",
    "            next_action = None\n",
    "            if np.random.rand()<=ep:\n",
    "                next_action = int(np.random.rand()//(1/3))\n",
    "            else:\n",
    "                next_action = np.argmax(q[scaled_x_next][scaled_v_next])\n",
    "            delta_Q = q[scaled_x][scaled_v][action]-Q_old\n",
    "            Q_old = q[scaled_x_next][scaled_v_next][next_action]\n",
    "            delta = reward + gamma*q[scaled_x_next][scaled_v_next][next_action]-q[scaled_x][scaled_v][action]\n",
    "            e[scaled_x][scaled_v][action] = (1-alpha)*e[scaled_x][scaled_v][action] + 1\n",
    "            q += alpha*(delta+delta_Q)*e\n",
    "            e = gamma*λ*e\n",
    "            q[scaled_x][scaled_v][action] = q[scaled_x][scaled_v][action] - alpha*delta_Q\n",
    "            action = next_action\n",
    "            x = x_next\n",
    "            v = v_next\n",
    "            scaled_x = scaled_x_next\n",
    "            scaled_v = scaled_v_next\n",
    "            steps+=1\n",
    "            total_reward += reward\n",
    "        \n",
    "        print(i, total_reward)\n",
    "\n",
    "    return q"
   ]
  },
  {
   "cell_type": "code",
   "execution_count": 28,
   "id": "960bbcac",
   "metadata": {},
   "outputs": [
    {
     "name": "stdout",
     "output_type": "stream",
     "text": [
      "1 -200.0\n",
      "2 -1.0\n",
      "3 -1.0\n",
      "4 -1.0\n"
     ]
    },
    {
     "data": {
      "text/plain": [
       "array([[[  0.        ,   0.        ,   0.        ],\n",
       "        [  0.        ,   0.        ,   0.        ],\n",
       "        [  0.        ,   0.        ,   0.        ],\n",
       "        [  0.        ,   0.        ,   0.        ],\n",
       "        [  0.        ,   0.        ,   0.        ]],\n",
       "\n",
       "       [[  0.        ,   0.        ,   0.        ],\n",
       "        [  0.        ,   0.        ,   0.        ],\n",
       "        [  0.        ,   0.        ,   0.        ],\n",
       "        [  0.        ,   0.        ,   0.        ],\n",
       "        [  0.        ,   0.        ,   0.        ]],\n",
       "\n",
       "       [[  0.        ,   0.        ,   0.        ],\n",
       "        [  0.        ,   0.        ,   0.        ],\n",
       "        [  0.        ,   0.        ,   0.        ],\n",
       "        [  0.        ,   0.        ,   0.        ],\n",
       "        [  0.        ,   0.        ,   0.        ]],\n",
       "\n",
       "       [[  0.        ,   0.        ,   0.        ],\n",
       "        [  0.        ,   0.        ,   0.        ],\n",
       "        [  0.        ,   0.        ,   0.        ],\n",
       "        [  0.        ,   0.        ,   0.        ],\n",
       "        [  0.        ,   0.        ,   0.        ]],\n",
       "\n",
       "       [[  0.        ,   0.        ,   0.        ],\n",
       "        [  0.        ,   0.        ,   0.        ],\n",
       "        [  0.        ,   0.        ,   0.        ],\n",
       "        [  0.        ,   0.        ,   0.        ],\n",
       "        [  0.        ,   0.        ,   0.        ]],\n",
       "\n",
       "       [[  0.        ,   0.        ,   0.        ],\n",
       "        [  0.        ,   0.        ,   0.        ],\n",
       "        [-35.16393695, -35.54996496, -35.3532713 ],\n",
       "        [  0.        ,   0.        ,   0.        ],\n",
       "        [  0.        ,   0.        ,   0.        ]],\n",
       "\n",
       "       [[  0.        ,   0.        ,   0.        ],\n",
       "        [  0.        ,   0.        ,   0.        ],\n",
       "        [-12.3330099 ,  -2.29364012,   0.        ],\n",
       "        [  0.        ,   0.        ,   0.        ],\n",
       "        [  0.        ,   0.        ,   0.        ]],\n",
       "\n",
       "       [[  0.        ,   0.        ,   0.        ],\n",
       "        [  0.        ,   0.        ,   0.        ],\n",
       "        [  0.        ,   0.        ,   0.        ],\n",
       "        [  0.        ,   0.        ,   0.        ],\n",
       "        [  0.        ,   0.        ,   0.        ]],\n",
       "\n",
       "       [[  0.        ,   0.        ,   0.        ],\n",
       "        [  0.        ,   0.        ,   0.        ],\n",
       "        [  0.        ,   0.        ,   0.        ],\n",
       "        [  0.        ,   0.        ,   0.        ],\n",
       "        [  0.        ,   0.        ,   0.        ]],\n",
       "\n",
       "       [[  0.        ,   0.        ,   0.        ],\n",
       "        [  0.        ,   0.        ,   0.        ],\n",
       "        [  0.        ,   0.        ,   0.        ],\n",
       "        [  0.        ,   0.        ,   0.        ],\n",
       "        [  0.        ,   0.        ,   0.        ]],\n",
       "\n",
       "       [[  0.        ,   0.        ,   0.        ],\n",
       "        [  0.        ,   0.        ,   0.        ],\n",
       "        [  0.        ,   0.        ,   0.        ],\n",
       "        [  0.        ,   0.        ,   0.        ],\n",
       "        [  0.        ,   0.        ,   0.        ]],\n",
       "\n",
       "       [[  0.        ,   0.        ,   0.        ],\n",
       "        [  0.        ,   0.        ,   0.        ],\n",
       "        [  0.        ,   0.        ,   0.        ],\n",
       "        [  0.        ,   0.        ,   0.        ],\n",
       "        [  0.        ,   0.        ,   0.        ]],\n",
       "\n",
       "       [[  0.        ,   0.        ,   0.        ],\n",
       "        [  0.        ,   0.        ,   0.        ],\n",
       "        [  0.        ,   0.        ,   0.        ],\n",
       "        [  0.        ,   0.        ,   0.        ],\n",
       "        [  0.        ,   0.        ,   0.        ]],\n",
       "\n",
       "       [[  0.        ,   0.        ,   0.        ],\n",
       "        [  0.        ,   0.        ,   0.        ],\n",
       "        [  0.        ,   0.        ,   0.        ],\n",
       "        [  0.        ,   0.        ,   0.        ],\n",
       "        [  0.        ,   0.        ,   0.        ]],\n",
       "\n",
       "       [[  0.        ,   0.        ,   0.        ],\n",
       "        [  0.        ,   0.        ,   0.        ],\n",
       "        [  0.        ,   0.        ,   0.        ],\n",
       "        [  0.        ,   0.        ,   0.        ],\n",
       "        [  0.        ,   0.        ,   0.        ]]])"
      ]
     },
     "execution_count": 28,
     "metadata": {},
     "output_type": "execute_result"
    }
   ],
   "source": [
    "algorithm(alpha=0.4, gamma=1, λ=0.4, iterations=4, ep=0.4, bins=np.array([15, 5]))"
   ]
  },
  {
   "cell_type": "code",
   "execution_count": null,
   "id": "2468f32d",
   "metadata": {},
   "outputs": [],
   "source": []
  }
 ],
 "metadata": {
  "kernelspec": {
   "display_name": "Python 3 (ipykernel)",
   "language": "python",
   "name": "python3"
  },
  "language_info": {
   "codemirror_mode": {
    "name": "ipython",
    "version": 3
   },
   "file_extension": ".py",
   "mimetype": "text/x-python",
   "name": "python",
   "nbconvert_exporter": "python",
   "pygments_lexer": "ipython3",
   "version": "3.10.2"
  }
 },
 "nbformat": 4,
 "nbformat_minor": 5
}
