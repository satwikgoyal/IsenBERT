{
 "cells": [
  {
   "cell_type": "markdown",
   "metadata": {},
   "source": [
    "# Import Libraries"
   ]
  },
  {
   "cell_type": "code",
   "execution_count": 1,
   "metadata": {
    "id": "sak-7sPPU55z"
   },
   "outputs": [],
   "source": [
    "import numpy as np\n",
    "import gym\n",
    "import matplotlib.pyplot as plt"
   ]
  },
  {
   "cell_type": "markdown",
   "metadata": {
    "colab": {
     "base_uri": "https://localhost:8080/",
     "height": 380
    },
    "id": "QYm6u5SfKdd4",
    "outputId": "cd917e14-abd2-49f9-fa08-23bafeda65ab"
   },
   "source": [
    "env = gym.make('MountainCar-v0')\n",
    "env.reset()\n",
    "for _ in range(1000):\n",
    "    env.render()\n",
    "    env.step(env.action_space.sample())\n",
    "env.close()\n",
    "print(env.action_space)\n",
    "print(env.observation_space)"
   ]
  },
  {
   "cell_type": "markdown",
   "metadata": {},
   "source": [
    "# Helper Methods"
   ]
  },
  {
   "cell_type": "code",
   "execution_count": 3,
   "metadata": {
    "id": "_0ow201BKlRE"
   },
   "outputs": [],
   "source": [
    "## normalize functions between 0 and 1 cosine\n",
    "\n",
    "def normalize(state):\n",
    "\n",
    "    s0 = state[0]\n",
    "    s1 = state[1]\n",
    "\n",
    "    # s0 = x, s1 = v\n",
    "    new_s0 = (s0 + 1.2) / (0.5 + 1.2)\n",
    "    new_s1 = (s1 + 0.7) / (0.7 + 0.7)\n",
    "\n",
    "    return [new_s0, new_s1]\n",
    "\n",
    "## phi full version # size (M+1)^2 where 2 is dim of state\n",
    "def get_phi_full(M, s):\n",
    "\n",
    "    # normalize\n",
    "    state = normalize(s)\n",
    "\n",
    "    s0 = state[0] \n",
    "    s1 = state[1]\n",
    "\n",
    "    # full fourier basis function using cosine\n",
    "    phi = [1.0]\n",
    "\n",
    "    for i in range(1, M+1):\n",
    "      phi.append(np.cos(i*np.pi *s0))\n",
    "\n",
    "    for j in range(1, M+1):\n",
    "      phi.append(np.cos(j*np.pi *s1))\n",
    "\n",
    "    for a in range(1, M+1):\n",
    "      for b in range(1, M+1):\n",
    "        phi.append(np.cos(np.pi *(a*s0)*(b*s1)))\n",
    "\n",
    "    return np.array(phi)"
   ]
  },
  {
   "cell_type": "code",
   "execution_count": 4,
   "metadata": {
    "id": "8tUdYH4NKoVT"
   },
   "outputs": [],
   "source": [
    "def softmax(epsilon, theta, phi):\n",
    "\n",
    "  policy = np.zeros(theta.shape[0])\n",
    "\n",
    "  # compute theta(s,a) full\n",
    "  theta_sa = theta.dot(phi)\n",
    "\n",
    "  for i in range(theta.shape[0]):\n",
    "\n",
    "    policy[i] = np.exp(epsilon*theta_sa[i]) / np.sum(np.exp(epsilon*theta_sa))\n",
    "\n",
    "  #   action_set = np.array([-1,0,1])\n",
    "  action_set = np.array([0,1,2])\n",
    "\n",
    "  action = np.random.choice(action_set, p =policy)\n",
    "\n",
    "  prob = policy[np.argwhere(action_set== action)[0][0]]\n",
    "\n",
    "  # gradient of softmax\n",
    "  grad = np.empty((0,len(phi)))\n",
    "\n",
    "  for j in range(len(policy)):\n",
    "\n",
    "    if action == action_set[j]:\n",
    "      grad = np.vstack((grad,(1-prob) * phi))\n",
    "    else:\n",
    "      grad = np.vstack((grad,(-1)*(policy[j] * phi)))\n",
    "  \n",
    "  return action, prob, grad"
   ]
  },
  {
   "cell_type": "markdown",
   "metadata": {},
   "source": [
    "# One Step Actor Critic"
   ]
  },
  {
   "cell_type": "code",
   "execution_count": 5,
   "metadata": {
    "id": "-v_tEBH9KrZV"
   },
   "outputs": [],
   "source": [
    "def actor_critic(N,alpha_theta, alpha_w, M1, M2, epsilon):\n",
    "       \n",
    "    curve_list = []\n",
    "    step_list = []\n",
    "    \n",
    "    theta = np.zeros((3, (M1+1)**2))\n",
    "    w = np.zeros(((M2+1)**2))\n",
    "    \n",
    "    ac_counter = 0\n",
    "\n",
    "    for i in range(N):\n",
    "\n",
    "#         print(i)\n",
    "\n",
    "        # get initial state\n",
    "        state = env.reset()\n",
    "        gamma = 1.0\n",
    "\n",
    "        step_counter = 0\n",
    "        \n",
    "        finish = False\n",
    "\n",
    "        while finish != True and step_counter <200:\n",
    "                  \n",
    "            # phi softmax\n",
    "            phi_soft = get_phi_full(M1,state) # change to full fourier basis\n",
    "\n",
    "            # get action\n",
    "            action, prob, grad = softmax(epsilon, theta, phi_soft)\n",
    "            \n",
    "            # call env step to get new env states\n",
    "            new_observation = env.step(action)\n",
    "            \n",
    "            # next state\n",
    "            next_state = new_observation[0]\n",
    "            \n",
    "            # next reward\n",
    "            reward = new_observation[1]\n",
    "            \n",
    "            # goal state\n",
    "            finish = new_observation[2]\n",
    "            \n",
    "\n",
    "            # phi function approx\n",
    "            phi_approx = get_phi_full(M2, state) # change to full fourier basis\n",
    "\n",
    "            # phi next state\n",
    "            phi_approx_p = get_phi_full(M2, next_state) # change to full fourier basis\n",
    "\n",
    "            # delta                                  # function aproximation \n",
    "            delta =  reward + (gamma*(w.dot(phi_approx_p))) - (w.dot(phi_approx))\n",
    "\n",
    "            # update w\n",
    "            w = w + (alpha_w * delta * phi_approx)\n",
    "\n",
    "            # update theta\n",
    "            theta = theta + (alpha_theta *delta * grad) ##### or  add theta + alpha*(delta*grad - beta ln(pi(s,a)) ) where beta is hyperparamter 0.01\n",
    "\n",
    "            state = next_state\n",
    "\n",
    "            ac_counter += 1\n",
    "            step_counter += 1\n",
    "\n",
    "        curve_list.append(ac_counter)\n",
    "        step_list.append(step_counter)\n",
    "        \n",
    "    return curve_list, step_list, theta"
   ]
  },
  {
   "cell_type": "markdown",
   "metadata": {},
   "source": [
    "# Graphs"
   ]
  },
  {
   "cell_type": "code",
   "execution_count": 6,
   "metadata": {
    "colab": {
     "base_uri": "https://localhost:8080/",
     "height": 625
    },
    "id": "SBldjYxKKxxJ",
    "outputId": "418b6315-e44d-4a24-ba7b-4406b5a6e238",
    "scrolled": false
   },
   "outputs": [
    {
     "name": "stdout",
     "output_type": "stream",
     "text": [
      "0\n",
      "1\n",
      "2\n"
     ]
    },
    {
     "data": {
      "image/png": "[encoded data removed]",
      "text/plain": [
       "<Figure size 432x288 with 1 Axes>"
      ]
     },
     "metadata": {
      "needs_background": "light"
     },
     "output_type": "display_data"
    },
    {
     "data": {
      "image/png": "[encoded data removed]",
      "text/plain": [
       "<Figure size 432x288 with 1 Axes>"
      ]
     },
     "metadata": {
      "needs_background": "light"
     },
     "output_type": "display_data"
    }
   ],
   "source": [
    "def graph(eps, runs):\n",
    "\n",
    "    curve_list = []\n",
    "    step_list = []\n",
    "    for i in range(runs):\n",
    "\n",
    "      print(i)\n",
    "\n",
    "      # curve, step =  actor_critic(N, 0.5, 0.005,20,20, 0.0001) # GOOD FOR NOW\n",
    "      # curve, step =  actor_critic(N, 0.05, 0.005,20,20, 0.0001) # GOOD but smaller alpha theta causes delay later\n",
    "      # curve, step =  actor_critic(N, 0.5, 0.001,20,20, 0.0001) # GOOD smaller alpha w causes smaller steps\n",
    "      # curve, step =  actor_critic(N, 0.5, 0.001,20,20, 0.0005)\n",
    "      # curve, step =  actor_critic(N, 0.5, 0.001,20,20, 0.00005) # best.....\n",
    "      curve, step, theta =  actor_critic(eps, 0.5, 0.001,30,30, 0.00005) # best ..... smaller steps at 200 episodes\n",
    "      curve_list.append(curve)\n",
    "      step_list.append(step)\n",
    "\n",
    "    curve = np.mean(curve_list, axis = 0)\n",
    "    step = np.mean(step_list, axis = 0)\n",
    "    std_step = np.std(step_list, axis = 0)\n",
    "\n",
    "    plt.plot(curve, range(eps))\n",
    "    plt.xlabel(\"Number of Actions\")\n",
    "    plt.ylabel(\"Number of Episodes\")\n",
    "    plt.title(\"Actor-Critic Curve between actions and episodes\")\n",
    "    plt.show()\n",
    "\n",
    "    plt.errorbar(range(eps), step, std_step, ecolor=\"red\")\n",
    "    plt.xlabel(\"Number of Episodes\")\n",
    "    plt.ylabel(\"Number of steps to goal\")\n",
    "    plt.ylim(75, 250)\n",
    "    plt.yticks(range(100,250,50))\n",
    "    plt.title(\"Actor-Critic Curve between episodes and step to goal\")\n",
    "    plt.show()\n",
    "    \n",
    "graph(500, 3)"
   ]
  },
  {
   "cell_type": "markdown",
   "metadata": {},
   "source": [
    "# Run visualization on best parameters"
   ]
  },
  {
   "cell_type": "markdown",
   "metadata": {
    "id": "fayZ0NQiLj44"
   },
   "source": [
    "Within actor critic method return $\\theta$ so that it saves the weights thus when running mountain car it uses $\\theta$, $m_1$, $ϵ$ for the softmax function"
   ]
  },
  {
   "cell_type": "code",
   "execution_count": 8,
   "metadata": {},
   "outputs": [],
   "source": [
    "curve, step, theta =  actor_critic(500, 0.5, 0.001,30,30, 0.00005)"
   ]
  },
  {
   "cell_type": "code",
   "execution_count": 9,
   "metadata": {
    "id": "be2AvHn9MLnu"
   },
   "outputs": [],
   "source": [
    "def run_final(theta, M1, epsilon):\n",
    "    \n",
    "    env = gym.make('MountainCar-v0')\n",
    "    state = env.reset()\n",
    "    \n",
    "    done = False\n",
    "    \n",
    "    counter = 0\n",
    "\n",
    "    while done != True:\n",
    "\n",
    "        print(counter)\n",
    "\n",
    "        # phi softmax\n",
    "        phi_soft = get_phi_full(M1,state) # change to full fourier basis\n",
    "\n",
    "        # get action\n",
    "        action, _, _ = softmax(epsilon, theta, phi_soft)\n",
    "\n",
    "        env.render()\n",
    "        # get next state\n",
    "        # call env step to get new env states\n",
    "        new_observation = env.step(action)\n",
    "\n",
    "        # next state\n",
    "        new_state = new_observation[0]\n",
    "        \n",
    "        done = new_observation[2]\n",
    "\n",
    "        #update state\n",
    "        state = new_state\n",
    "        \n",
    "        counter += 1\n",
    "\n",
    "\n",
    "    env.close()\n",
    "\n",
    "# env.reset()\n",
    "# for _ in range(1000):\n",
    "#     env.render()\n",
    "#     env.step(env.action_space.sample())\n",
    "# env.close()\n",
    "\n",
    "\n",
    "\n"
   ]
  },
  {
   "cell_type": "code",
   "execution_count": 10,
   "metadata": {
    "scrolled": true
   },
   "outputs": [
    {
     "name": "stdout",
     "output_type": "stream",
     "text": [
      "0\n",
      "1\n",
      "2\n",
      "3\n",
      "4\n",
      "5\n",
      "6\n",
      "7\n",
      "8\n",
      "9\n",
      "10\n",
      "11\n",
      "12\n",
      "13\n",
      "14\n",
      "15\n",
      "16\n",
      "17\n",
      "18\n",
      "19\n",
      "20\n",
      "21\n",
      "22\n",
      "23\n",
      "24\n",
      "25\n",
      "26\n",
      "27\n",
      "28\n",
      "29\n",
      "30\n",
      "31\n",
      "32\n",
      "33\n",
      "34\n",
      "35\n",
      "36\n",
      "37\n",
      "38\n",
      "39\n",
      "40\n",
      "41\n",
      "42\n",
      "43\n",
      "44\n",
      "45\n",
      "46\n",
      "47\n",
      "48\n",
      "49\n",
      "50\n",
      "51\n",
      "52\n",
      "53\n",
      "54\n",
      "55\n",
      "56\n",
      "57\n",
      "58\n",
      "59\n",
      "60\n",
      "61\n",
      "62\n",
      "63\n",
      "64\n",
      "65\n",
      "66\n",
      "67\n",
      "68\n",
      "69\n",
      "70\n",
      "71\n",
      "72\n",
      "73\n",
      "74\n",
      "75\n",
      "76\n",
      "77\n",
      "78\n",
      "79\n",
      "80\n",
      "81\n",
      "82\n",
      "83\n",
      "84\n",
      "85\n",
      "86\n",
      "87\n",
      "88\n",
      "89\n",
      "90\n",
      "91\n",
      "92\n",
      "93\n",
      "94\n",
      "95\n",
      "96\n",
      "97\n",
      "98\n",
      "99\n",
      "100\n",
      "101\n",
      "102\n",
      "103\n",
      "104\n",
      "105\n",
      "106\n",
      "107\n",
      "108\n",
      "109\n",
      "110\n",
      "111\n",
      "112\n",
      "113\n",
      "114\n",
      "115\n",
      "116\n",
      "117\n",
      "118\n",
      "119\n",
      "120\n",
      "121\n",
      "122\n",
      "123\n",
      "124\n",
      "125\n",
      "126\n",
      "127\n",
      "128\n",
      "129\n",
      "130\n"
     ]
    }
   ],
   "source": [
    "run_final(theta, 30, 0.00005)"
   ]
  },
  {
   "cell_type": "code",
   "execution_count": null,
   "metadata": {},
   "outputs": [],
   "source": []
  }
 ],
 "metadata": {
  "colab": {
   "collapsed_sections": [],
   "name": "CS520_Project_Actor_Critic.ipynb",
   "provenance": []
  },
  "kernelspec": {
   "display_name": "Python 3 (ipykernel)",
   "language": "python",
   "name": "python3"
  },
  "language_info": {
   "codemirror_mode": {
    "name": "ipython",
    "version": 3
   },
   "file_extension": ".py",
   "mimetype": "text/x-python",
   "name": "python",
   "nbconvert_exporter": "python",
   "pygments_lexer": "ipython3",
   "version": "3.7.6"
  }
 },
 "nbformat": 4,
 "nbformat_minor": 1
}
